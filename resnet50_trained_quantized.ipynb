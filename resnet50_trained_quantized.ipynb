{
  "cells": [
    {
      "cell_type": "markdown",
      "metadata": {
        "id": "view-in-github",
        "colab_type": "text"
      },
      "source": [
        "<a href=\"https://colab.research.google.com/github/hiimkhang/dog_breed_classification/blob/main/resnet50_trained_quantized.ipynb\" target=\"_parent\"><img src=\"https://colab.research.google.com/assets/colab-badge.svg\" alt=\"Open In Colab\"/></a>"
      ]
    },
    {
      "cell_type": "markdown",
      "source": [
        "# Get dataset"
      ],
      "metadata": {
        "id": "HUtEtxGzXjJT"
      }
    },
    {
      "cell_type": "code",
      "source": [
        "import requests\n",
        "import zipfile\n",
        "import os\n",
        "\n",
        "data_dir = \"dog_breed_classification/dataset\"\n",
        "\n",
        "if not os.path.isdir(data_dir):\n",
        "    !git clone https://github.com/hiimkhang/dog_breed_classification\n"
      ],
      "metadata": {
        "id": "IOx9I8nYEPrq",
        "colab": {
          "base_uri": "https://localhost:8080/"
        },
        "outputId": "0450893b-b5e5-4e94-c43e-ef91785d3309"
      },
      "execution_count": 1,
      "outputs": [
        {
          "output_type": "stream",
          "name": "stdout",
          "text": [
            "Cloning into 'dog_breed_classification'...\n",
            "remote: Enumerating objects: 20762, done.\u001b[K\n",
            "remote: Counting objects: 100% (25/25), done.\u001b[K\n",
            "remote: Compressing objects: 100% (19/19), done.\u001b[K\n",
            "remote: Total 20762 (delta 6), reused 20 (delta 4), pack-reused 20737\u001b[K\n",
            "Receiving objects: 100% (20762/20762), 749.69 MiB | 24.66 MiB/s, done.\n",
            "Resolving deltas: 100% (7/7), done.\n",
            "Updating files: 100% (22504/22504), done.\n"
          ]
        }
      ]
    },
    {
      "cell_type": "markdown",
      "source": [
        "# Modify ResNet50\n",
        "\n",
        "Due to the fact that the resnet50 module supported by pytorch `torch.models` is not compatible for quantization, even with its layers modified, as referred to in a thread from [this pytorch forum](https://discuss.pytorch.org/t/am-i-correct-in-concluding-that-resnet-that-comes-with-pytorch-cant-be-quantized-by-pytorch/82405/9). I use the modified resnet50 from [this blog](https://github.com/pytorch/vision/tree/main/torchvision/models/quantization) (modified from a [github repository](https://leimao.github.io/blog/PyTorch-Static-Quantization/) provided by pytorch)."
      ],
      "metadata": {
        "id": "UIZxOhxwXp5Q"
      }
    },
    {
      "cell_type": "code",
      "execution_count": 2,
      "metadata": {
        "id": "eXeGmCEXENKL"
      },
      "outputs": [],
      "source": [
        "import torch\n",
        "from torch import Tensor\n",
        "import torch.nn as nn\n",
        "from typing import Type, Any, Callable, Union, List, Optional\n",
        "from torch.quantization import QuantStub, DeQuantStub\n",
        "\n",
        "\n",
        "try:\n",
        "    from torch.hub import load_state_dict_from_url\n",
        "except ImportError:\n",
        "    from torch.utils.model_zoo import load_url as load_state_dict_from_url\n",
        "\n",
        "\n",
        "model_urls = {\n",
        "    'resnet50': 'https://download.pytorch.org/models/resnet50-19c8e357.pth',\n",
        "}\n",
        "\n",
        "\n",
        "def conv3x3(in_planes: int, out_planes: int, stride: int = 1, groups: int = 1, dilation: int = 1) -> nn.Conv2d:\n",
        "    \"\"\"3x3 convolution with padding\"\"\"\n",
        "    return nn.Conv2d(in_planes, out_planes, kernel_size=3, stride=stride,\n",
        "                     padding=dilation, groups=groups, bias=False, dilation=dilation)\n",
        "\n",
        "\n",
        "def conv1x1(in_planes: int, out_planes: int, stride: int = 1) -> nn.Conv2d:\n",
        "    \"\"\"1x1 convolution\"\"\"\n",
        "    return nn.Conv2d(in_planes, out_planes, kernel_size=1, stride=stride, bias=False)\n",
        "\n",
        "\n",
        "class BasicBlock(nn.Module):\n",
        "    expansion: int = 1\n",
        "\n",
        "    def __init__(\n",
        "        self,\n",
        "        inplanes: int,\n",
        "        planes: int,\n",
        "        stride: int = 1,\n",
        "        downsample: Optional[nn.Module] = None,\n",
        "        groups: int = 1,\n",
        "        base_width: int = 64,\n",
        "        dilation: int = 1,\n",
        "        norm_layer: Optional[Callable[..., nn.Module]] = None\n",
        "    ) -> None:\n",
        "        super(BasicBlock, self).__init__()\n",
        "        if norm_layer is None:\n",
        "            norm_layer = nn.BatchNorm2d\n",
        "        if groups != 1 or base_width != 64:\n",
        "            raise ValueError('BasicBlock only supports groups=1 and base_width=64')\n",
        "        if dilation > 1:\n",
        "            raise NotImplementedError(\"Dilation > 1 not supported in BasicBlock\")\n",
        "        # Both self.conv1 and self.downsample layers downsample the input when stride != 1\n",
        "        self.conv1 = conv3x3(inplanes, planes, stride)\n",
        "        self.bn1 = norm_layer(planes)\n",
        "        self.relu = nn.ReLU(inplace=True)\n",
        "        self.conv2 = conv3x3(planes, planes)\n",
        "        self.bn2 = norm_layer(planes)\n",
        "        self.downsample = downsample\n",
        "        self.stride = stride\n",
        "        self.skip_add = nn.quantized.FloatFunctional()\n",
        "\n",
        "    def forward(self, x: Tensor) -> Tensor:\n",
        "        identity = x\n",
        "\n",
        "        out = self.conv1(x)\n",
        "        out = self.bn1(out)\n",
        "        out = self.relu(out)\n",
        "\n",
        "        out = self.conv2(out)\n",
        "        out = self.bn2(out)\n",
        "\n",
        "        if self.downsample is not None:\n",
        "            identity = self.downsample(x)\n",
        "\n",
        "        #out += identity\n",
        "        out = self.skip_add.add(out, identity)\n",
        "        out = self.relu(out)\n",
        "\n",
        "        return out\n",
        "\n",
        "\n",
        "class Bottleneck(nn.Module):\n",
        "    # Bottleneck in torchvision places the stride for downsampling at 3x3 convolution(self.conv2)\n",
        "    # while original implementation places the stride at the first 1x1 convolution(self.conv1)\n",
        "    # according to \"Deep residual learning for image recognition\"https://arxiv.org/abs/1512.03385.\n",
        "    # This variant is also known as ResNet V1.5 and improves accuracy according to\n",
        "    # https://ngc.nvidia.com/catalog/model-scripts/nvidia:resnet_50_v1_5_for_pytorch.\n",
        "\n",
        "    expansion: int = 4\n",
        "\n",
        "    def __init__(\n",
        "        self,\n",
        "        inplanes: int,\n",
        "        planes: int,\n",
        "        stride: int = 1,\n",
        "        downsample: Optional[nn.Module] = None,\n",
        "        groups: int = 1,\n",
        "        base_width: int = 64,\n",
        "        dilation: int = 1,\n",
        "        norm_layer: Optional[Callable[..., nn.Module]] = None\n",
        "    ) -> None:\n",
        "        super(Bottleneck, self).__init__()\n",
        "        if norm_layer is None:\n",
        "            norm_layer = nn.BatchNorm2d\n",
        "        width = int(planes * (base_width / 64.)) * groups\n",
        "        # Both self.conv2 and self.downsample layers downsample the input when stride != 1\n",
        "        self.conv1 = conv1x1(inplanes, width)\n",
        "        self.bn1 = norm_layer(width)\n",
        "        self.conv2 = conv3x3(width, width, stride, groups, dilation)\n",
        "        self.bn2 = norm_layer(width)\n",
        "        self.conv3 = conv1x1(width, planes * self.expansion)\n",
        "        self.bn3 = norm_layer(planes * self.expansion)\n",
        "        self.relu = nn.ReLU(inplace=True)\n",
        "        self.downsample = downsample\n",
        "        self.stride = stride\n",
        "        self.skip_add = nn.quantized.FloatFunctional()\n",
        "\n",
        "    def forward(self, x: Tensor) -> Tensor:\n",
        "        identity = x\n",
        "\n",
        "        out = self.conv1(x)\n",
        "        out = self.bn1(out)\n",
        "        out = self.relu(out)\n",
        "\n",
        "        out = self.conv2(out)\n",
        "        out = self.bn2(out)\n",
        "        out = self.relu(out)\n",
        "\n",
        "        out = self.conv3(out)\n",
        "        out = self.bn3(out)\n",
        "\n",
        "        if self.downsample is not None:\n",
        "            identity = self.downsample(x)\n",
        "\n",
        "        #out += identity\n",
        "        out = self.skip_add.add(out, identity)\n",
        "        out = self.relu(out)\n",
        "\n",
        "        return out\n",
        "\n",
        "\n",
        "class ResNet(nn.Module):\n",
        "\n",
        "    def __init__(\n",
        "        self,\n",
        "        block: Type[Union[BasicBlock, Bottleneck]],\n",
        "        layers: List[int],\n",
        "        num_classes: int = 1000,\n",
        "        zero_init_residual: bool = False,\n",
        "        groups: int = 1,\n",
        "        width_per_group: int = 64,\n",
        "        replace_stride_with_dilation: Optional[List[bool]] = None,\n",
        "        norm_layer: Optional[Callable[..., nn.Module]] = None\n",
        "    ) -> None:\n",
        "        super(ResNet, self).__init__()\n",
        "        if norm_layer is None:\n",
        "            norm_layer = nn.BatchNorm2d\n",
        "        self._norm_layer = norm_layer\n",
        "\n",
        "        self.inplanes = 64\n",
        "        self.dilation = 1\n",
        "        if replace_stride_with_dilation is None:\n",
        "            # each element in the tuple indicates if we should replace\n",
        "            # the 2x2 stride with a dilated convolution instead\n",
        "            replace_stride_with_dilation = [False, False, False]\n",
        "        if len(replace_stride_with_dilation) != 3:\n",
        "            raise ValueError(\"replace_stride_with_dilation should be None \"\n",
        "                             \"or a 3-element tuple, got {}\".format(replace_stride_with_dilation))\n",
        "        self.groups = groups\n",
        "        self.base_width = width_per_group\n",
        "        self.conv1 = nn.Conv2d(3, self.inplanes, kernel_size=7, stride=2, padding=3,\n",
        "                               bias=False)\n",
        "        self.bn1 = norm_layer(self.inplanes)\n",
        "        self.relu = nn.ReLU(inplace=True)\n",
        "        self.maxpool = nn.MaxPool2d(kernel_size=3, stride=2, padding=1)\n",
        "        self.layer1 = self._make_layer(block, 64, layers[0])\n",
        "        self.layer2 = self._make_layer(block, 128, layers[1], stride=2,\n",
        "                                       dilate=replace_stride_with_dilation[0])\n",
        "        self.layer3 = self._make_layer(block, 256, layers[2], stride=2,\n",
        "                                       dilate=replace_stride_with_dilation[1])\n",
        "        self.layer4 = self._make_layer(block, 512, layers[3], stride=2,\n",
        "                                       dilate=replace_stride_with_dilation[2])\n",
        "        self.avgpool = nn.AdaptiveAvgPool2d((1, 1))\n",
        "        self.fc = nn.Linear(512 * block.expansion, num_classes)\n",
        "\n",
        "        for m in self.modules():\n",
        "            if isinstance(m, nn.Conv2d):\n",
        "                nn.init.kaiming_normal_(m.weight, mode='fan_out', nonlinearity='relu')\n",
        "            elif isinstance(m, (nn.BatchNorm2d, nn.GroupNorm)):\n",
        "                nn.init.constant_(m.weight, 1)\n",
        "                nn.init.constant_(m.bias, 0)\n",
        "\n",
        "        self.quant = QuantStub()\n",
        "        self.dequant = DeQuantStub()\n",
        "        # Zero-initialize the last BN in each residual branch,\n",
        "        # so that the residual branch starts with zeros, and each residual block behaves like an identity.\n",
        "        # This improves the model by 0.2~0.3% according to https://arxiv.org/abs/1706.02677\n",
        "        if zero_init_residual:\n",
        "            for m in self.modules():\n",
        "                if isinstance(m, Bottleneck):\n",
        "                    nn.init.constant_(m.bn3.weight, 0)  # type: ignore[arg-type]\n",
        "                elif isinstance(m, BasicBlock):\n",
        "                    nn.init.constant_(m.bn2.weight, 0)  # type: ignore[arg-type]\n",
        "\n",
        "    def _make_layer(self, block: Type[Union[BasicBlock, Bottleneck]], planes: int, blocks: int,\n",
        "                    stride: int = 1, dilate: bool = False) -> nn.Sequential:\n",
        "        norm_layer = self._norm_layer\n",
        "        downsample = None\n",
        "        previous_dilation = self.dilation\n",
        "        if dilate:\n",
        "            self.dilation *= stride\n",
        "            stride = 1\n",
        "        if stride != 1 or self.inplanes != planes * block.expansion:\n",
        "            downsample = nn.Sequential(\n",
        "                conv1x1(self.inplanes, planes * block.expansion, stride),\n",
        "                norm_layer(planes * block.expansion),\n",
        "            )\n",
        "\n",
        "        layers = []\n",
        "        layers.append(block(self.inplanes, planes, stride, downsample, self.groups,\n",
        "                            self.base_width, previous_dilation, norm_layer))\n",
        "        self.inplanes = planes * block.expansion\n",
        "        for _ in range(1, blocks):\n",
        "            layers.append(block(self.inplanes, planes, groups=self.groups,\n",
        "                                base_width=self.base_width, dilation=self.dilation,\n",
        "                                norm_layer=norm_layer))\n",
        "\n",
        "        return nn.Sequential(*layers)\n",
        "\n",
        "    def _forward_impl(self, x: Tensor) -> Tensor:\n",
        "        # See note [TorchScript super()]\n",
        "        x = self.quant(x) # add quant\n",
        "        x = self.conv1(x)\n",
        "        x = self.bn1(x)\n",
        "        x = self.relu(x)\n",
        "        x = self.maxpool(x)\n",
        "\n",
        "        x = self.layer1(x)\n",
        "        x = self.layer2(x)\n",
        "        x = self.layer3(x)\n",
        "        x = self.layer4(x)\n",
        "\n",
        "        x = self.avgpool(x)\n",
        "        x = torch.flatten(x, 1)\n",
        "        x = self.fc(x)\n",
        "        x = self.dequant(x) # add dequant\n",
        "\n",
        "        return x\n",
        "\n",
        "    def forward(self, x: Tensor) -> Tensor:\n",
        "        return self._forward_impl(x)\n",
        "\n",
        "\n",
        "def _resnet(\n",
        "    arch: str,\n",
        "    block: Type[Union[BasicBlock, Bottleneck]],\n",
        "    layers: List[int],\n",
        "    pretrained: bool,\n",
        "    progress: bool,\n",
        "    **kwargs: Any\n",
        ") -> ResNet:\n",
        "    model = ResNet(block, layers, **kwargs)\n",
        "    if pretrained:\n",
        "        state_dict = load_state_dict_from_url(model_urls[arch],\n",
        "                                              progress=progress)\n",
        "        model.load_state_dict(state_dict)\n",
        "    return model\n",
        "\n",
        "\n",
        "def resnet50_quantizable(pretrained: bool = False, progress: bool = True, **kwargs: Any) -> ResNet:\n",
        "    r\"\"\"ResNet-50 model from\n",
        "    `\"Deep Residual Learning for Image Recognition\" <https://arxiv.org/pdf/1512.03385.pdf>`_.\n",
        "    Args:\n",
        "        pretrained (bool): If True, returns a model pre-trained on ImageNet\n",
        "        progress (bool): If True, displays a progress bar of the download to stderr\n",
        "    \"\"\"\n",
        "    return _resnet('resnet50', Bottleneck, [3, 4, 6, 3], pretrained, progress,\n",
        "                   **kwargs)"
      ]
    },
    {
      "cell_type": "markdown",
      "source": [
        "# Prepare dataloader\n",
        "- Applying transform\n",
        "- Data sampling\n",
        "- Define cuda and cpu device\n",
        "- Get in_channels and out_features"
      ],
      "metadata": {
        "id": "LbfAie6sXxxt"
      }
    },
    {
      "cell_type": "code",
      "execution_count": 3,
      "metadata": {
        "id": "pw9jrTJEENKP"
      },
      "outputs": [],
      "source": [
        "import torch.nn.functional as F\n",
        "import torch.optim as optim\n",
        "from tqdm import tqdm\n",
        "\n",
        "from torch.utils.data import DataLoader\n",
        "\n",
        "from torchvision import datasets\n",
        "import torchvision.models as models\n",
        "import torchvision.transforms as transforms\n",
        "import os\n",
        "\n",
        "import time\n",
        "\n",
        "root = data_dir\n",
        "img_size = 224\n",
        "\n",
        "train_batch_size = 32\n",
        "eval_batch_size = 32\n",
        "num_workers = 2\n",
        "num_epochs = 7\n",
        "\n",
        "loss_fn = torch.nn.CrossEntropyLoss()\n",
        "\n",
        "train_transform = transforms.Compose([\n",
        "        transforms.Resize((img_size, img_size)),\n",
        "        transforms.RandomHorizontalFlip(),\n",
        "        transforms.ToTensor(),\n",
        "        transforms.Normalize(mean=(0.485, 0.456, 0.406),\n",
        "                                std=(0.229, 0.224, 0.225)),\n",
        "    ])\n",
        "\n",
        "test_transform = transforms.Compose([\n",
        "        transforms.Resize((img_size, img_size)),\n",
        "        transforms.ToTensor(),\n",
        "        transforms.Normalize(mean=(0.485, 0.456, 0.406),\n",
        "                                std=(0.229, 0.224, 0.225)),\n",
        "    ])\n",
        "\n",
        "train_set = datasets.ImageFolder(root=os.path.join(root, 'train'), transform=train_transform)\n",
        "test_set = datasets.ImageFolder(root=os.path.join(root, 'valid'), transform=test_transform)\n",
        "\n",
        "train_sampler = torch.utils.data.RandomSampler(train_set)\n",
        "test_sampler = torch.utils.data.SequentialSampler(test_set)\n",
        "\n",
        "train_loader = DataLoader(dataset=train_set,\n",
        "                        batch_size=train_batch_size,\n",
        "                        sampler=train_sampler,\n",
        "                        num_workers=num_workers)\n",
        "\n",
        "test_loader = DataLoader(dataset=test_set,\n",
        "                        batch_size=eval_batch_size,\n",
        "                        sampler=test_sampler,\n",
        "                        num_workers=num_workers)"
      ]
    },
    {
      "cell_type": "code",
      "execution_count": 4,
      "metadata": {
        "id": "xnAT7dLMENKP"
      },
      "outputs": [],
      "source": [
        "cuda_device = torch.device(\"cuda:0\")\n",
        "cpu_device = torch.device(\"cpu:0\")"
      ]
    },
    {
      "cell_type": "code",
      "execution_count": 34,
      "metadata": {
        "colab": {
          "base_uri": "https://localhost:8080/"
        },
        "id": "YC3NwYzrENKQ",
        "outputId": "65f91a9a-947d-4584-b9c6-2d684e7af04d"
      },
      "outputs": [
        {
          "output_type": "stream",
          "name": "stdout",
          "text": [
            "Input tensor shape: torch.Size([32, 3, 224, 224])\n",
            "Number of classes (out_features): 120\n",
            "in_channels:  3\n",
            "Train samples:  16418\n",
            "Test samples:  4162\n"
          ]
        }
      ],
      "source": [
        "batch_inputs, batch_targets = next(iter(train_loader))\n",
        "\n",
        "in_channels = batch_inputs.shape[1]     # number of channels of input images\n",
        "out_features = len(train_set.classes)\n",
        "\n",
        "print(\"Input tensor shape:\", batch_inputs.shape)\n",
        "print(\"Number of classes (out_features):\", out_features)\n",
        "print(\"in_channels: \", in_channels)\n",
        "\n",
        "print(\"Train samples: \", len(train_loader.dataset))\n",
        "print(\"Test samples: \", len(test_loader.dataset))"
      ]
    },
    {
      "cell_type": "markdown",
      "source": [
        "# Helper training functions\n",
        "- modifyLayers\n",
        "- train_step\n",
        "- eval_step\n",
        "- train_model"
      ],
      "metadata": {
        "id": "PNdQSAZsX-Co"
      }
    },
    {
      "cell_type": "code",
      "execution_count": 6,
      "metadata": {
        "id": "OA8dfHW7ENKR"
      },
      "outputs": [],
      "source": [
        "def modifyLayers(model: torch.nn.Module, in_channels: int, out_features: int):\n",
        "    # modify the first convolutional layer, in_channels = input tensor channels\n",
        "    model.conv1 = torch.nn.Conv2d(in_channels, 64, kernel_size=7, stride=2, padding=3, bias=False)\n",
        "\n",
        "    # modify the last fc layer, out_features = number of classes\n",
        "    model.fc = torch.nn.Linear(model.fc.in_features, out_features)"
      ]
    },
    {
      "cell_type": "code",
      "source": [
        "def train_step(model: nn.Module,\n",
        "               train_loader: DataLoader,\n",
        "               loss_fn: nn.Module,\n",
        "               optimizer: torch.optim.Optimizer,\n",
        "               device: torch.device) -> tuple[float, float]:\n",
        "    model.to(device)\n",
        "    model.train()\n",
        "\n",
        "    train_loss, train_accuracy = 0., 0.\n",
        "\n",
        "    for batch, (image, label) in tqdm(enumerate(train_loader), total=len(train_loader)):\n",
        "        image, label = image.to(device), label.to(device)\n",
        "\n",
        "        label_pred = model(image) # forward pass\n",
        "\n",
        "        loss = loss_fn(label_pred, label) # compute loss\n",
        "        train_loss += loss.item()\n",
        "\n",
        "        optimizer.zero_grad() # zero param gradients\n",
        "\n",
        "        loss.backward() # backward pass\n",
        "\n",
        "        optimizer.step() # update parameters\n",
        "\n",
        "        y_pred_labels = torch.argmax(torch.softmax(label_pred, dim=1), dim=1) # compute accuracy\n",
        "        train_accuracy += (y_pred_labels == label).sum().item() / len(label_pred)\n",
        "\n",
        "    avg_loss, avg_acc = train_loss/len(train_loader), train_accuracy/len(train_loader)\n",
        "    print(f\"\\nTrain loss: {avg_loss:.4f} | Train accuracy: {avg_acc:.4f}\", end=' | ')\n",
        "\n",
        "    return avg_loss, avg_acc"
      ],
      "metadata": {
        "id": "QtNduHml6xYe"
      },
      "execution_count": 16,
      "outputs": []
    },
    {
      "cell_type": "code",
      "source": [
        "def eval_step(model: nn.Module,\n",
        "              test_loader: DataLoader,\n",
        "              loss_fn: nn.Module,\n",
        "              device: torch.device) -> tuple[float, float]:\n",
        "    model.to(device)\n",
        "    model.eval()\n",
        "\n",
        "    test_loss, test_accuracy = 0., 0.\n",
        "\n",
        "    with torch.inference_mode():\n",
        "        for batch, (image, label) in enumerate(test_loader):\n",
        "            image, label = image.to(device), label.to(device)\n",
        "\n",
        "            label_pred_logits = model(image) # forward pass\n",
        "\n",
        "            loss = loss_fn(label_pred_logits, label) # compute loss\n",
        "            test_loss += loss.item()\n",
        "\n",
        "            label_pred_labels = label_pred_logits.argmax(dim=1) # compute accuracy\n",
        "            test_accuracy += (label_pred_labels == label).sum().item() / len(label_pred_labels)\n",
        "\n",
        "    avg_loss, avg_acc = test_loss/len(test_loader), test_accuracy/len(test_loader)\n",
        "    print(f\"Test loss: {avg_loss:.4f} | Test accuracy: {avg_acc:.4f}\")\n",
        "\n",
        "    return avg_loss, avg_acc"
      ],
      "metadata": {
        "id": "Xk5hrjYr7_9d"
      },
      "execution_count": 17,
      "outputs": []
    },
    {
      "cell_type": "code",
      "source": [
        "def train_model(model: nn.Module,\n",
        "          train_loader: DataLoader,\n",
        "          test_loader: DataLoader,\n",
        "          epochs: int,\n",
        "          device: torch.device) -> dict[str, list]:\n",
        "    global results_info\n",
        "    model.to(device)\n",
        "\n",
        "    results = {\n",
        "        'Train loss': [],\n",
        "        'Train accuracy': [],\n",
        "        'Test loss': [],\n",
        "        'Test accuracy': [],\n",
        "    }\n",
        "\n",
        "    optimizer = optim.SGD(model.parameters(),\n",
        "                            1e-3,\n",
        "                            momentum=0.9,\n",
        "                            weight_decay=1e-4)\n",
        "\n",
        "    scheduler = torch.optim.lr_scheduler.MultiStepLR(optimizer,\n",
        "                                                     milestones=[100, 150],\n",
        "                                                     gamma=0.1,\n",
        "                                                     last_epoch=-1)\n",
        "\n",
        "    for epoch in range(epochs):\n",
        "\n",
        "        print(f\"\\nEpoch {epoch+1}/{epochs}: \", end=\"\")\n",
        "\n",
        "        train_loss, train_acc = train_step(model, train_loader, loss_fn, optimizer, device)\n",
        "        test_loss, test_acc = eval_step(model, test_loader, loss_fn, device)\n",
        "\n",
        "        results['Train loss'].append(train_loss)\n",
        "        results['Train accuracy'].append(train_acc)\n",
        "        results['Test loss'].append(test_loss)\n",
        "        results['Test accuracy'].append(test_acc)\n",
        "\n",
        "        scheduler.step()\n",
        "        # Write model into log.txt\n",
        "        # with open('log.txt', 'w') as f:\n",
        "        #     f.write(f\"Model: {model}\")\n",
        "\n",
        "    return results"
      ],
      "metadata": {
        "id": "0V6otwHR8pt5"
      },
      "execution_count": 14,
      "outputs": []
    },
    {
      "cell_type": "markdown",
      "source": [
        "# Model loading and training"
      ],
      "metadata": {
        "id": "7fAe_C9ZYO9H"
      }
    },
    {
      "cell_type": "code",
      "source": [
        "import warnings\n",
        "warnings.filterwarnings('ignore', category=UserWarning)\n",
        "\n",
        "# Use an original resnet50 pretrained model to train and evaluate\n",
        "# Can be used for later comparisons\n",
        "resnet50 = models.resnet50(pretrained=True)\n",
        "\n",
        "modifyLayers(model=resnet50,\n",
        "             in_channels=in_channels,\n",
        "             out_features=out_features) # modify first conv1 and last fc layer according to dataset\n",
        "\n",
        "resnet50_result = train_model(model=resnet50,\n",
        "            train_loader=train_loader,\n",
        "            test_loader=test_loader,\n",
        "            epochs=num_epochs,\n",
        "            device=cuda_device)"
      ],
      "metadata": {
        "colab": {
          "base_uri": "https://localhost:8080/"
        },
        "id": "diOlDL-dCiTo",
        "outputId": "f74bd1df-9a87-43ba-b1b2-1c750fa086a4"
      },
      "execution_count": 18,
      "outputs": [
        {
          "output_type": "stream",
          "name": "stdout",
          "text": [
            "\n",
            "Epoch 1/7: "
          ]
        },
        {
          "output_type": "stream",
          "name": "stderr",
          "text": [
            "100%|██████████| 514/514 [02:57<00:00,  2.90it/s]"
          ]
        },
        {
          "output_type": "stream",
          "name": "stdout",
          "text": [
            "\n",
            "Train loss: 4.3178 | Train accuracy: 0.0840 | "
          ]
        },
        {
          "output_type": "stream",
          "name": "stderr",
          "text": [
            "\n"
          ]
        },
        {
          "output_type": "stream",
          "name": "stdout",
          "text": [
            "Test loss: 3.3672 | Test accuracy: 0.2319\n",
            "\n",
            "Epoch 2/7: "
          ]
        },
        {
          "output_type": "stream",
          "name": "stderr",
          "text": [
            "100%|██████████| 514/514 [03:01<00:00,  2.84it/s]"
          ]
        },
        {
          "output_type": "stream",
          "name": "stdout",
          "text": [
            "\n",
            "Train loss: 2.6565 | Train accuracy: 0.3632 | "
          ]
        },
        {
          "output_type": "stream",
          "name": "stderr",
          "text": [
            "\n"
          ]
        },
        {
          "output_type": "stream",
          "name": "stdout",
          "text": [
            "Test loss: 2.0139 | Test accuracy: 0.4816\n",
            "\n",
            "Epoch 3/7: "
          ]
        },
        {
          "output_type": "stream",
          "name": "stderr",
          "text": [
            "100%|██████████| 514/514 [03:01<00:00,  2.84it/s]"
          ]
        },
        {
          "output_type": "stream",
          "name": "stdout",
          "text": [
            "\n",
            "Train loss: 1.6732 | Train accuracy: 0.5661 | "
          ]
        },
        {
          "output_type": "stream",
          "name": "stderr",
          "text": [
            "\n"
          ]
        },
        {
          "output_type": "stream",
          "name": "stdout",
          "text": [
            "Test loss: 1.6052 | Test accuracy: 0.5499\n",
            "\n",
            "Epoch 4/7: "
          ]
        },
        {
          "output_type": "stream",
          "name": "stderr",
          "text": [
            "100%|██████████| 514/514 [03:02<00:00,  2.82it/s]"
          ]
        },
        {
          "output_type": "stream",
          "name": "stdout",
          "text": [
            "\n",
            "Train loss: 1.2140 | Train accuracy: 0.6733 | "
          ]
        },
        {
          "output_type": "stream",
          "name": "stderr",
          "text": [
            "\n"
          ]
        },
        {
          "output_type": "stream",
          "name": "stdout",
          "text": [
            "Test loss: 1.4883 | Test accuracy: 0.5892\n",
            "\n",
            "Epoch 5/7: "
          ]
        },
        {
          "output_type": "stream",
          "name": "stderr",
          "text": [
            "100%|██████████| 514/514 [03:01<00:00,  2.83it/s]"
          ]
        },
        {
          "output_type": "stream",
          "name": "stdout",
          "text": [
            "\n",
            "Train loss: 0.9177 | Train accuracy: 0.7462 | "
          ]
        },
        {
          "output_type": "stream",
          "name": "stderr",
          "text": [
            "\n"
          ]
        },
        {
          "output_type": "stream",
          "name": "stdout",
          "text": [
            "Test loss: 1.1224 | Test accuracy: 0.6632\n",
            "\n",
            "Epoch 6/7: "
          ]
        },
        {
          "output_type": "stream",
          "name": "stderr",
          "text": [
            "100%|██████████| 514/514 [03:02<00:00,  2.82it/s]"
          ]
        },
        {
          "output_type": "stream",
          "name": "stdout",
          "text": [
            "\n",
            "Train loss: 0.7111 | Train accuracy: 0.8016 | "
          ]
        },
        {
          "output_type": "stream",
          "name": "stderr",
          "text": [
            "\n"
          ]
        },
        {
          "output_type": "stream",
          "name": "stdout",
          "text": [
            "Test loss: 1.0975 | Test accuracy: 0.6725\n",
            "\n",
            "Epoch 7/7: "
          ]
        },
        {
          "output_type": "stream",
          "name": "stderr",
          "text": [
            "100%|██████████| 514/514 [03:01<00:00,  2.83it/s]"
          ]
        },
        {
          "output_type": "stream",
          "name": "stdout",
          "text": [
            "\n",
            "Train loss: 0.5455 | Train accuracy: 0.8543 | "
          ]
        },
        {
          "output_type": "stream",
          "name": "stderr",
          "text": [
            "\n"
          ]
        },
        {
          "output_type": "stream",
          "name": "stdout",
          "text": [
            "Test loss: 1.2356 | Test accuracy: 0.6374\n"
          ]
        }
      ]
    },
    {
      "cell_type": "code",
      "execution_count": 19,
      "metadata": {
        "colab": {
          "base_uri": "https://localhost:8080/"
        },
        "id": "8AWXQDC0ENKS",
        "outputId": "a62689f5-6e1a-4bd4-9cd5-99ce7a836b54"
      },
      "outputs": [
        {
          "output_type": "stream",
          "name": "stderr",
          "text": [
            "Downloading: \"https://download.pytorch.org/models/resnet50-19c8e357.pth\" to /root/.cache/torch/hub/checkpoints/resnet50-19c8e357.pth\n",
            "100%|██████████| 97.8M/97.8M [00:00<00:00, 239MB/s]\n"
          ]
        },
        {
          "output_type": "stream",
          "name": "stdout",
          "text": [
            "\n",
            "Epoch 1/7: "
          ]
        },
        {
          "output_type": "stream",
          "name": "stderr",
          "text": [
            "100%|██████████| 514/514 [03:01<00:00,  2.83it/s]"
          ]
        },
        {
          "output_type": "stream",
          "name": "stdout",
          "text": [
            "\n",
            "Train loss: 4.2880 | Train accuracy: 0.0973 | "
          ]
        },
        {
          "output_type": "stream",
          "name": "stderr",
          "text": [
            "\n"
          ]
        },
        {
          "output_type": "stream",
          "name": "stdout",
          "text": [
            "Test loss: 3.2556 | Test accuracy: 0.2665\n",
            "\n",
            "Epoch 2/7: "
          ]
        },
        {
          "output_type": "stream",
          "name": "stderr",
          "text": [
            "100%|██████████| 514/514 [03:01<00:00,  2.83it/s]"
          ]
        },
        {
          "output_type": "stream",
          "name": "stdout",
          "text": [
            "\n",
            "Train loss: 2.4866 | Train accuracy: 0.4117 | "
          ]
        },
        {
          "output_type": "stream",
          "name": "stderr",
          "text": [
            "\n"
          ]
        },
        {
          "output_type": "stream",
          "name": "stdout",
          "text": [
            "Test loss: 1.8481 | Test accuracy: 0.5217\n",
            "\n",
            "Epoch 3/7: "
          ]
        },
        {
          "output_type": "stream",
          "name": "stderr",
          "text": [
            "100%|██████████| 514/514 [03:01<00:00,  2.84it/s]"
          ]
        },
        {
          "output_type": "stream",
          "name": "stdout",
          "text": [
            "\n",
            "Train loss: 1.5112 | Train accuracy: 0.6071 | "
          ]
        },
        {
          "output_type": "stream",
          "name": "stderr",
          "text": [
            "\n"
          ]
        },
        {
          "output_type": "stream",
          "name": "stdout",
          "text": [
            "Test loss: 1.3755 | Test accuracy: 0.6188\n",
            "\n",
            "Epoch 4/7: "
          ]
        },
        {
          "output_type": "stream",
          "name": "stderr",
          "text": [
            "100%|██████████| 514/514 [03:01<00:00,  2.84it/s]"
          ]
        },
        {
          "output_type": "stream",
          "name": "stdout",
          "text": [
            "\n",
            "Train loss: 1.0910 | Train accuracy: 0.7031 | "
          ]
        },
        {
          "output_type": "stream",
          "name": "stderr",
          "text": [
            "\n"
          ]
        },
        {
          "output_type": "stream",
          "name": "stdout",
          "text": [
            "Test loss: 1.1376 | Test accuracy: 0.6670\n",
            "\n",
            "Epoch 5/7: "
          ]
        },
        {
          "output_type": "stream",
          "name": "stderr",
          "text": [
            "100%|██████████| 514/514 [03:01<00:00,  2.83it/s]"
          ]
        },
        {
          "output_type": "stream",
          "name": "stdout",
          "text": [
            "\n",
            "Train loss: 0.8213 | Train accuracy: 0.7731 | "
          ]
        },
        {
          "output_type": "stream",
          "name": "stderr",
          "text": [
            "\n"
          ]
        },
        {
          "output_type": "stream",
          "name": "stdout",
          "text": [
            "Test loss: 1.0398 | Test accuracy: 0.6932\n",
            "\n",
            "Epoch 6/7: "
          ]
        },
        {
          "output_type": "stream",
          "name": "stderr",
          "text": [
            "100%|██████████| 514/514 [03:04<00:00,  2.79it/s]"
          ]
        },
        {
          "output_type": "stream",
          "name": "stdout",
          "text": [
            "\n",
            "Train loss: 0.6294 | Train accuracy: 0.8282 | "
          ]
        },
        {
          "output_type": "stream",
          "name": "stderr",
          "text": [
            "\n"
          ]
        },
        {
          "output_type": "stream",
          "name": "stdout",
          "text": [
            "Test loss: 1.0320 | Test accuracy: 0.6982\n",
            "\n",
            "Epoch 7/7: "
          ]
        },
        {
          "output_type": "stream",
          "name": "stderr",
          "text": [
            "100%|██████████| 514/514 [03:08<00:00,  2.73it/s]"
          ]
        },
        {
          "output_type": "stream",
          "name": "stdout",
          "text": [
            "\n",
            "Train loss: 0.4848 | Train accuracy: 0.8713 | "
          ]
        },
        {
          "output_type": "stream",
          "name": "stderr",
          "text": [
            "\n"
          ]
        },
        {
          "output_type": "stream",
          "name": "stdout",
          "text": [
            "Test loss: 1.0079 | Test accuracy: 0.7018\n"
          ]
        }
      ],
      "source": [
        "# Use customized resnet50 pretrained model to train and evaluate\n",
        "# This quantizable model later will be used to quantize into the compressed int8 param model\n",
        "\n",
        "resnet50_quantizable = resnet50_quantizable(pretrained=True)\n",
        "\n",
        "modifyLayers(model=resnet50_quantizable,\n",
        "             in_channels=in_channels,\n",
        "             out_features=out_features) # modify first conv1 and last fc layer according to dataset\n",
        "\n",
        "resnet50_quantizable_result = train_model(model=resnet50_quantizable,\n",
        "            train_loader=train_loader,\n",
        "            test_loader=test_loader,\n",
        "            epochs=num_epochs,\n",
        "            device=cuda_device)"
      ]
    },
    {
      "cell_type": "code",
      "execution_count": 20,
      "metadata": {
        "colab": {
          "base_uri": "https://localhost:8080/"
        },
        "id": "POzjSsgeENKS",
        "outputId": "bdfde15a-db44-4000-fc31-00cb7eb98a04"
      },
      "outputs": [
        {
          "output_type": "stream",
          "name": "stdout",
          "text": [
            "ResNet50:\n",
            "Test loss: 1.2356 | Test accuracy: 0.6374\n",
            "Inference time: 899.2210s\n",
            "\n",
            "Quantizable ResNet50:\n",
            "Test loss: 1.0079 | Test accuracy: 0.7018\n",
            "Inference time: 940.1275s\n"
          ]
        }
      ],
      "source": [
        "# Evaluate on test set with CPU (for later comparisons with quantized model)\n",
        "\n",
        "print(\"ResNet50:\")\n",
        "start_time = time.time()\n",
        "resnet50_eval = eval_step(resnet50, test_loader, loss_fn, cpu_device)\n",
        "end_time = time.time()\n",
        "\n",
        "resnet50_inference_time = end_time - start_time\n",
        "print(f\"Inference time: {resnet50_inference_time:.4f}s\")\n",
        "\n",
        "print(\"\\nQuantizable ResNet50:\")\n",
        "start_time = time.time()\n",
        "resnet50_quantizable_eval = eval_step(resnet50_quantizable, test_loader, loss_fn, cpu_device)\n",
        "end_time = time.time()\n",
        "\n",
        "quantizable_inference_time = end_time - start_time\n",
        "print(f\"Inference time: {quantizable_inference_time:.4f}s\")"
      ]
    },
    {
      "cell_type": "code",
      "source": [
        "# Save the two trained models\n",
        "if not os.path.isdir('save_models'):\n",
        "    os.makedirs('save_models', exist_ok=True)\n",
        "\n",
        "torch.save(resnet50.state_dict(), \"./save_models/resnet50_trained.pt\")\n",
        "torch.save(resnet50_quantizable.state_dict(), \"./save_models/resnet50_quantizable_trained.pt\")"
      ],
      "metadata": {
        "id": "MSNNYCw_IjcC"
      },
      "execution_count": 21,
      "outputs": []
    },
    {
      "cell_type": "markdown",
      "source": [
        "# Post-training static quantization"
      ],
      "metadata": {
        "id": "V4fQnC10YT_2"
      }
    },
    {
      "cell_type": "code",
      "source": [
        "def calibrate_model(model: nn.Module, loader: DataLoader, device=torch.device('cpu:0')):\n",
        "  model.to(device)\n",
        "  model.eval()\n",
        "\n",
        "  for image, label in tqdm(loader, total=len(loader)):\n",
        "    image, label = image.to(device), label.to(device)\n",
        "    model(image)"
      ],
      "metadata": {
        "id": "k9EfM_NfMjte"
      },
      "execution_count": 22,
      "outputs": []
    },
    {
      "cell_type": "code",
      "execution_count": 23,
      "metadata": {
        "id": "zuPBo4GaENKT",
        "colab": {
          "base_uri": "https://localhost:8080/"
        },
        "outputId": "50a76813-0156-4284-c15a-0b3cdd39e1b7"
      },
      "outputs": [
        {
          "output_type": "stream",
          "name": "stderr",
          "text": [
            "100%|██████████| 131/131 [25:28<00:00, 11.67s/it]\n"
          ]
        }
      ],
      "source": [
        "import copy\n",
        "\n",
        "# Our initial baseline model which is FP32\n",
        "model_fp32 = copy.deepcopy(resnet50_quantizable)\n",
        "\n",
        "# Move the model to CPU since static quantization does not support CUDA currently.\n",
        "model_fp32.to(cpu_device)\n",
        "\n",
        "model_fp32.eval()   # set to evaluation mode, a requirement for below layers fusing\n",
        "\n",
        "# Fuse layers\n",
        "model_fp32 = torch.quantization.fuse_modules(model_fp32, [['conv1', 'bn1', 'relu']], inplace=True)\n",
        "\n",
        "# Set the backend for x86\n",
        "model_fp32.qconfig = torch.quantization.get_default_qconfig('fbgemm')\n",
        "\n",
        "# Prepares the model for calibration.\n",
        "# Inserts observers in the model that will observe the activation tensors during calibration\n",
        "model_fp32_prepared = torch.quantization.prepare(model_fp32, inplace = False)\n",
        "\n",
        "# Calibrate over the train dataset. This determines the quantization params for activation.\n",
        "# It's better to use training data for calibration, but colab CPU is bad with the max num_workers of 2, here I use testing data.\n",
        "calibrate_model(model=model_fp32_prepared,\n",
        "                loader=test_loader,\n",
        "                device=cpu_device)\n",
        "\n",
        "# for batch, target in tqdm(train_loader, total=len(train_loader)):\n",
        "#     model_fp32_prepared(batch)\n",
        "\n",
        "# Converts the model to a quantized model (int8)\n",
        "resnet50_quantized = torch.quantization.convert(model_fp32_prepared)"
      ]
    },
    {
      "cell_type": "code",
      "execution_count": 24,
      "metadata": {
        "id": "ayRlE_yHENKT"
      },
      "outputs": [],
      "source": [
        "if not os.path.isdir('save_models'):\n",
        "    os.makedirs('save_models', exist_ok=True)\n",
        "\n",
        "torch.save(resnet50_quantized.state_dict(), \"./save_models/resnet50_quantized.pt\")"
      ]
    },
    {
      "cell_type": "code",
      "source": [
        "# Use the compressed quantized model to evaluate the test set\n",
        "print(f\"ResNet50 Quantized:\")\n",
        "\n",
        "start_time = time.time()\n",
        "resnet50_quantized_eval = eval_step(resnet50_quantized, test_loader, loss_fn, cpu_device)\n",
        "end_time = time.time()\n",
        "quantized_inference_time = end_time - start_time\n",
        "\n",
        "print(f\"Inference time: {quantized_inference_time:.4f}s\")"
      ],
      "metadata": {
        "id": "IzgUj6ujYkoV",
        "colab": {
          "base_uri": "https://localhost:8080/"
        },
        "outputId": "021e780f-d625-46a2-eb07-58d1b3bd711d"
      },
      "execution_count": 25,
      "outputs": [
        {
          "output_type": "stream",
          "name": "stdout",
          "text": [
            "ResNet50 Quantized:\n",
            "Test loss: 1.0205 | Test accuracy: 0.7021\n",
            "Inference time: 410.6270s\n"
          ]
        }
      ]
    },
    {
      "cell_type": "code",
      "source": [
        "# Compare to the previous Quantizable ResNet50 and original ResNet50:\n",
        "# print(f\"ResNet50 accuracy: {resnet50_eval[1]:.4f}\")\n",
        "print(f\"Quantizable ResNet50 accuracy: {resnet50_quantizable_eval[1]:.4f}\")"
      ],
      "metadata": {
        "id": "o1rxhWpOiBp2",
        "colab": {
          "base_uri": "https://localhost:8080/"
        },
        "outputId": "19393f09-03d6-40fd-f5ad-1f2b08a23437"
      },
      "execution_count": 26,
      "outputs": [
        {
          "output_type": "stream",
          "name": "stdout",
          "text": [
            "ResNet50 accuracy: 0.6374\n",
            "Quantizable ResNet50 accuracy: 0.7018\n"
          ]
        }
      ]
    },
    {
      "cell_type": "markdown",
      "source": [
        "# **Conclusion**"
      ],
      "metadata": {
        "id": "mJXeZyRHXQGc"
      }
    },
    {
      "cell_type": "code",
      "source": [
        "import matplotlib.pyplot as plt\n",
        "%matplotlib inline\n",
        "import pandas as pd\n",
        "\n",
        "resnet50_result_df = pd.DataFrame(resnet50_result)\n",
        "resnet50_quantizable_result_df = pd.DataFrame(resnet50_quantizable_result)\n",
        "\n",
        "# Plot the training and validation loss curve\n",
        "fig, axs = plt.subplots(2, 2, figsize=(10, 8))\n",
        "for model, x in zip([resnet50_result_df, resnet50_quantizable_result_df], [0, 1]):\n",
        "    axs[x, 0].plot(model['Train loss'], label='Training Loss')\n",
        "    axs[x, 0].plot(model['Test loss'], label='Validation Loss')\n",
        "    axs[x, 0].set(xlabel='Epochs', ylabel='Loss')\n",
        "    axs[x, 0].legend(loc='best')\n",
        "\n",
        "    axs[x, 1].plot(model['Train accuracy'], label='Training Accuracy')\n",
        "    axs[x, 1].plot(model['Test accuracy'], label='Validation Accuracy')\n",
        "    axs[x, 1].set(xlabel='Epochs', ylabel='Accuracy')\n",
        "    axs[x, 1].legend(loc='best')\n",
        "\n",
        "axs[0, 0].set_title('ResNet50 Training and Validation Loss')\n",
        "axs[0, 1].set_title('ResNet50 Training and Validation Accuracy')\n",
        "axs[1, 0].set_title('Modified ResNet50 Training and Validation Loss')\n",
        "axs[1, 1].set_title('Modified ResNet50 Training and Validation Accuracy')\n",
        "\n",
        "plt.tight_layout()\n",
        "plt.show()"
      ],
      "metadata": {
        "id": "-4SDNIRqXVa5",
        "colab": {
          "base_uri": "https://localhost:8080/",
          "height": 789
        },
        "outputId": "553cdd40-2212-4718-d4cf-034ba65da7e2"
      },
      "execution_count": 27,
      "outputs": [
        {
          "output_type": "display_data",
          "data": {
            "text/plain": [
              "<Figure size 1000x800 with 4 Axes>"
            ],
            "image/png": "[encoded data removed]"
          },
          "metadata": {}
        }
      ]
    },
    {
      "cell_type": "code",
      "source": [
        "# Compare test loss, accuracy and inference time\n",
        "\n",
        "data = [resnet50_eval, resnet50_quantizable_eval, resnet50_quantized_eval]\n",
        "inference_time = [resnet50_inference_time, quantizable_inference_time, quantized_inference_time]\n",
        "\n",
        "df = pd.DataFrame(data, columns=['Test loss', 'Test accuracy'])\n",
        "df['Inference time'] = inference_time\n",
        "df.index = ['ResNet50', 'Modified ResNet50', 'Quantized ResNet50']\n",
        "df"
      ],
      "metadata": {
        "id": "RkwK77hjUlC3",
        "colab": {
          "base_uri": "https://localhost:8080/",
          "height": 143
        },
        "outputId": "7c48bc75-7d6c-4279-9097-083c012ac8ad"
      },
      "execution_count": 31,
      "outputs": [
        {
          "output_type": "execute_result",
          "data": {
            "text/plain": [
              "                    Test loss  Test accuracy  Inference time\n",
              "ResNet50             1.235602       0.637405      899.221014\n",
              "Modified ResNet50    1.007872       0.701813      940.127538\n",
              "Quantized ResNet50   1.020467       0.702052      410.626960"
            ],
            "text/html": [
              "\n",
              "\n",
              "  <div id=\"df-097e1b83-bc26-4e30-907e-489200a9cda3\">\n",
              "    <div class=\"colab-df-container\">\n",
              "      <div>\n",
              "<style scoped>\n",
              "    .dataframe tbody tr th:only-of-type {\n",
              "        vertical-align: middle;\n",
              "    }\n",
              "\n",
              "    .dataframe tbody tr th {\n",
              "        vertical-align: top;\n",
              "    }\n",
              "\n",
              "    .dataframe thead th {\n",
              "        text-align: right;\n",
              "    }\n",
              "</style>\n",
              "<table border=\"1\" class=\"dataframe\">\n",
              "  <thead>\n",
              "    <tr style=\"text-align: right;\">\n",
              "      <th></th>\n",
              "      <th>Test loss</th>\n",
              "      <th>Test accuracy</th>\n",
              "      <th>Inference time</th>\n",
              "    </tr>\n",
              "  </thead>\n",
              "  <tbody>\n",
              "    <tr>\n",
              "      <th>ResNet50</th>\n",
              "      <td>1.235602</td>\n",
              "      <td>0.637405</td>\n",
              "      <td>899.221014</td>\n",
              "    </tr>\n",
              "    <tr>\n",
              "      <th>Modified ResNet50</th>\n",
              "      <td>1.007872</td>\n",
              "      <td>0.701813</td>\n",
              "      <td>940.127538</td>\n",
              "    </tr>\n",
              "    <tr>\n",
              "      <th>Quantized ResNet50</th>\n",
              "      <td>1.020467</td>\n",
              "      <td>0.702052</td>\n",
              "      <td>410.626960</td>\n",
              "    </tr>\n",
              "  </tbody>\n",
              "</table>\n",
              "</div>\n",
              "      <button class=\"colab-df-convert\" onclick=\"convertToInteractive('df-097e1b83-bc26-4e30-907e-489200a9cda3')\"\n",
              "              title=\"Convert this dataframe to an interactive table.\"\n",
              "              style=\"display:none;\">\n",
              "\n",
              "  <svg xmlns=\"http://www.w3.org/2000/svg\" height=\"24px\"viewBox=\"0 0 24 24\"\n",
              "       width=\"24px\">\n",
              "    <path d=\"M0 0h24v24H0V0z\" fill=\"none\"/>\n",
              "    <path d=\"M18.56 5.44l.94 2.06.94-2.06 2.06-.94-2.06-.94-.94-2.06-.94 2.06-2.06.94zm-11 1L8.5 8.5l.94-2.06 2.06-.94-2.06-.94L8.5 2.5l-.94 2.06-2.06.94zm10 10l.94 2.06.94-2.06 2.06-.94-2.06-.94-.94-2.06-.94 2.06-2.06.94z\"/><path d=\"M17.41 7.96l-1.37-1.37c-.4-.4-.92-.59-1.43-.59-.52 0-1.04.2-1.43.59L10.3 9.45l-7.72 7.72c-.78.78-.78 2.05 0 2.83L4 21.41c.39.39.9.59 1.41.59.51 0 1.02-.2 1.41-.59l7.78-7.78 2.81-2.81c.8-.78.8-2.07 0-2.86zM5.41 20L4 18.59l7.72-7.72 1.47 1.35L5.41 20z\"/>\n",
              "  </svg>\n",
              "      </button>\n",
              "\n",
              "\n",
              "\n",
              "    <div id=\"df-ccd16596-915c-4993-aec4-df1853652d2b\">\n",
              "      <button class=\"colab-df-quickchart\" onclick=\"quickchart('df-ccd16596-915c-4993-aec4-df1853652d2b')\"\n",
              "              title=\"Suggest charts.\"\n",
              "              style=\"display:none;\">\n",
              "\n",
              "<svg xmlns=\"http://www.w3.org/2000/svg\" height=\"24px\"viewBox=\"0 0 24 24\"\n",
              "     width=\"24px\">\n",
              "    <g>\n",
              "        <path d=\"M19 3H5c-1.1 0-2 .9-2 2v14c0 1.1.9 2 2 2h14c1.1 0 2-.9 2-2V5c0-1.1-.9-2-2-2zM9 17H7v-7h2v7zm4 0h-2V7h2v10zm4 0h-2v-4h2v4z\"/>\n",
              "    </g>\n",
              "</svg>\n",
              "      </button>\n",
              "    </div>\n",
              "\n",
              "<style>\n",
              "  .colab-df-quickchart {\n",
              "    background-color: #E8F0FE;\n",
              "    border: none;\n",
              "    border-radius: 50%;\n",
              "    cursor: pointer;\n",
              "    display: none;\n",
              "    fill: #1967D2;\n",
              "    height: 32px;\n",
              "    padding: 0 0 0 0;\n",
              "    width: 32px;\n",
              "  }\n",
              "\n",
              "  .colab-df-quickchart:hover {\n",
              "    background-color: #E2EBFA;\n",
              "    box-shadow: 0px 1px 2px rgba(60, 64, 67, 0.3), 0px 1px 3px 1px rgba(60, 64, 67, 0.15);\n",
              "    fill: #174EA6;\n",
              "  }\n",
              "\n",
              "  [theme=dark] .colab-df-quickchart {\n",
              "    background-color: #3B4455;\n",
              "    fill: #D2E3FC;\n",
              "  }\n",
              "\n",
              "  [theme=dark] .colab-df-quickchart:hover {\n",
              "    background-color: #434B5C;\n",
              "    box-shadow: 0px 1px 3px 1px rgba(0, 0, 0, 0.15);\n",
              "    filter: drop-shadow(0px 1px 2px rgba(0, 0, 0, 0.3));\n",
              "    fill: #FFFFFF;\n",
              "  }\n",
              "</style>\n",
              "\n",
              "    <script>\n",
              "      async function quickchart(key) {\n",
              "        const containerElement = document.querySelector('#' + key);\n",
              "        const charts = await google.colab.kernel.invokeFunction(\n",
              "            'suggestCharts', [key], {});\n",
              "      }\n",
              "    </script>\n",
              "\n",
              "      <script>\n",
              "\n",
              "function displayQuickchartButton(domScope) {\n",
              "  let quickchartButtonEl =\n",
              "    domScope.querySelector('#df-ccd16596-915c-4993-aec4-df1853652d2b button.colab-df-quickchart');\n",
              "  quickchartButtonEl.style.display =\n",
              "    google.colab.kernel.accessAllowed ? 'block' : 'none';\n",
              "}\n",
              "\n",
              "        displayQuickchartButton(document);\n",
              "      </script>\n",
              "      <style>\n",
              "    .colab-df-container {\n",
              "      display:flex;\n",
              "      flex-wrap:wrap;\n",
              "      gap: 12px;\n",
              "    }\n",
              "\n",
              "    .colab-df-convert {\n",
              "      background-color: #E8F0FE;\n",
              "      border: none;\n",
              "      border-radius: 50%;\n",
              "      cursor: pointer;\n",
              "      display: none;\n",
              "      fill: #1967D2;\n",
              "      height: 32px;\n",
              "      padding: 0 0 0 0;\n",
              "      width: 32px;\n",
              "    }\n",
              "\n",
              "    .colab-df-convert:hover {\n",
              "      background-color: #E2EBFA;\n",
              "      box-shadow: 0px 1px 2px rgba(60, 64, 67, 0.3), 0px 1px 3px 1px rgba(60, 64, 67, 0.15);\n",
              "      fill: #174EA6;\n",
              "    }\n",
              "\n",
              "    [theme=dark] .colab-df-convert {\n",
              "      background-color: #3B4455;\n",
              "      fill: #D2E3FC;\n",
              "    }\n",
              "\n",
              "    [theme=dark] .colab-df-convert:hover {\n",
              "      background-color: #434B5C;\n",
              "      box-shadow: 0px 1px 3px 1px rgba(0, 0, 0, 0.15);\n",
              "      filter: drop-shadow(0px 1px 2px rgba(0, 0, 0, 0.3));\n",
              "      fill: #FFFFFF;\n",
              "    }\n",
              "  </style>\n",
              "\n",
              "      <script>\n",
              "        const buttonEl =\n",
              "          document.querySelector('#df-097e1b83-bc26-4e30-907e-489200a9cda3 button.colab-df-convert');\n",
              "        buttonEl.style.display =\n",
              "          google.colab.kernel.accessAllowed ? 'block' : 'none';\n",
              "\n",
              "        async function convertToInteractive(key) {\n",
              "          const element = document.querySelector('#df-097e1b83-bc26-4e30-907e-489200a9cda3');\n",
              "          const dataTable =\n",
              "            await google.colab.kernel.invokeFunction('convertToInteractive',\n",
              "                                                     [key], {});\n",
              "          if (!dataTable) return;\n",
              "\n",
              "          const docLinkHtml = 'Like what you see? Visit the ' +\n",
              "            '<a target=\"_blank\" href=https://colab.research.google.com/notebooks/data_table.ipynb>data table notebook</a>'\n",
              "            + ' to learn more about interactive tables.';\n",
              "          element.innerHTML = '';\n",
              "          dataTable['output_type'] = 'display_data';\n",
              "          await google.colab.output.renderOutput(dataTable, element);\n",
              "          const docLink = document.createElement('div');\n",
              "          docLink.innerHTML = docLinkHtml;\n",
              "          element.appendChild(docLink);\n",
              "        }\n",
              "      </script>\n",
              "    </div>\n",
              "  </div>\n"
            ]
          },
          "metadata": {},
          "execution_count": 31
        }
      ]
    },
    {
      "cell_type": "code",
      "source": [
        "# Compare size in MB\n",
        "\n",
        "save_dir = './save_models'\n",
        "\n",
        "for model in os.listdir(save_dir):\n",
        "  size = os.path.getsize(os.path.join(save_dir, model))/1e6\n",
        "  print(f\"Size of {model}: {size:.4f} MB\")"
      ],
      "metadata": {
        "id": "1tpa-ex0YRKA",
        "colab": {
          "base_uri": "https://localhost:8080/"
        },
        "outputId": "77d672f0-486f-4df1-f4ef-78b35a6a288a"
      },
      "execution_count": 29,
      "outputs": [
        {
          "output_type": "stream",
          "name": "stdout",
          "text": [
            "Size of resnet50_trained.pt: 95.3312 MB\n",
            "Size of resnet50_quantizable_trained.pt: 95.3369 MB\n",
            "Size of resnet50_quantized.pt: 24.7619 MB\n"
          ]
        }
      ]
    },
    {
      "cell_type": "markdown",
      "source": [
        "# References"
      ],
      "metadata": {
        "id": "Viaa0XELbX15"
      }
    }
  ],
  "metadata": {
    "kernelspec": {
      "display_name": "Python 3",
      "name": "python3"
    },
    "language_info": {
      "codemirror_mode": {
        "name": "ipython",
        "version": 3
      },
      "file_extension": ".py",
      "mimetype": "text/x-python",
      "name": "python",
      "nbconvert_exporter": "python",
      "pygments_lexer": "ipython3",
      "version": "3.10.11"
    },
    "orig_nbformat": 4,
    "colab": {
      "provenance": [],
      "gpuType": "T4",
      "cell_execution_strategy": "setup",
      "include_colab_link": true
    },
    "accelerator": "GPU"
  },
  "nbformat": 4,
  "nbformat_minor": 0
}